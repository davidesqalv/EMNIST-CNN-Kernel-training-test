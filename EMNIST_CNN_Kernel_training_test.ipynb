{
  "nbformat": 4,
  "nbformat_minor": 0,
  "metadata": {
    "colab": {
      "provenance": [],
      "collapsed_sections": [],
      "include_colab_link": true
    },
    "kernelspec": {
      "name": "python3",
      "display_name": "Python 3"
    },
    "language_info": {
      "name": "python"
    }
  },
  "cells": [
    {
      "cell_type": "markdown",
      "metadata": {
        "id": "view-in-github",
        "colab_type": "text"
      },
      "source": [
        "<a href=\"https://colab.research.google.com/github/davidesqalv/EMNIST-CNN-Kernel-training-test/blob/main/EMNIST_CNN_Kernel_training_test.ipynb\" target=\"_parent\"><img src=\"https://colab.research.google.com/assets/colab-badge.svg\" alt=\"Open In Colab\"/></a>"
      ]
    },
    {
      "cell_type": "markdown",
      "metadata": {
        "id": "JMSoToSFIJZR"
      },
      "source": [
        "# Setup"
      ]
    },
    {
      "cell_type": "code",
      "metadata": {
        "id": "MLxXqbOs_iS5"
      },
      "source": [
        "import numpy as np\n",
        "np.set_printoptions(precision=3, suppress=True)\n",
        "import scipy as sc\n",
        "\n",
        "import matplotlib.pyplot as plt\n",
        "import pandas as pd\n",
        "import random\n",
        "import copy\n",
        "import math\n",
        "\n",
        "from sklearn.metrics import confusion_matrix\n",
        "from mpl_toolkits.mplot3d import Axes3D\n",
        "\n",
        "from mlxtend.plotting import plot_confusion_matrix"
      ],
      "execution_count": null,
      "outputs": []
    },
    {
      "cell_type": "code",
      "metadata": {
        "colab": {
          "base_uri": "https://localhost:8080/"
        },
        "id": "eiV3A3OV88pW",
        "outputId": "9f36d4ea-c419-4d89-9b06-cd46c68bb007"
      },
      "source": [
        "from google.colab import drive\n",
        "drive.mount('/content/drive', force_remount=True)"
      ],
      "execution_count": null,
      "outputs": [
        {
          "output_type": "stream",
          "text": [
            "Mounted at /content/drive\n"
          ],
          "name": "stdout"
        }
      ]
    },
    {
      "cell_type": "code",
      "metadata": {
        "id": "pB7pxvRLLaKz",
        "colab": {
          "base_uri": "https://localhost:8080/",
          "height": 198
        },
        "outputId": "3d33c772-d503-42ee-bc9d-0506b3544d2a"
      },
      "source": [
        "#abriendo los datos de un csv a formato pandas dataframe\n",
        "datos1 = pd.read_csv(\n",
        "    '/content/drive/My Drive/IA_TEC/tarea2/airfoil_self_noise.csv',\n",
        "    names=[\"variable1\", \"variable2\", \"variable3\", \"variable4\", \"variable5\",\"target\"], delim_whitespace=True)\n",
        "\n",
        "datos1.head()\n",
        "\n",
        "#abriendo los datos de un csv a formato pandas dataframe\n",
        "datos2 = pd.read_csv(\n",
        "    '/content/drive/My Drive/IA_TEC/tarea2/o-ring-erosion-only.csv',\n",
        "    names=[\"variable1\", \"target\", \"variable2\", \"variable3\", \"variable4\"], delim_whitespace=True)\n",
        "\n",
        "datos2.head()"
      ],
      "execution_count": null,
      "outputs": [
        {
          "output_type": "execute_result",
          "data": {
            "text/html": [
              "<div>\n",
              "<style scoped>\n",
              "    .dataframe tbody tr th:only-of-type {\n",
              "        vertical-align: middle;\n",
              "    }\n",
              "\n",
              "    .dataframe tbody tr th {\n",
              "        vertical-align: top;\n",
              "    }\n",
              "\n",
              "    .dataframe thead th {\n",
              "        text-align: right;\n",
              "    }\n",
              "</style>\n",
              "<table border=\"1\" class=\"dataframe\">\n",
              "  <thead>\n",
              "    <tr style=\"text-align: right;\">\n",
              "      <th></th>\n",
              "      <th>variable1</th>\n",
              "      <th>target</th>\n",
              "      <th>variable2</th>\n",
              "      <th>variable3</th>\n",
              "      <th>variable4</th>\n",
              "    </tr>\n",
              "  </thead>\n",
              "  <tbody>\n",
              "    <tr>\n",
              "      <th>0</th>\n",
              "      <td>6</td>\n",
              "      <td>0</td>\n",
              "      <td>66</td>\n",
              "      <td>50</td>\n",
              "      <td>1</td>\n",
              "    </tr>\n",
              "    <tr>\n",
              "      <th>1</th>\n",
              "      <td>6</td>\n",
              "      <td>1</td>\n",
              "      <td>70</td>\n",
              "      <td>50</td>\n",
              "      <td>2</td>\n",
              "    </tr>\n",
              "    <tr>\n",
              "      <th>2</th>\n",
              "      <td>6</td>\n",
              "      <td>0</td>\n",
              "      <td>69</td>\n",
              "      <td>50</td>\n",
              "      <td>3</td>\n",
              "    </tr>\n",
              "    <tr>\n",
              "      <th>3</th>\n",
              "      <td>6</td>\n",
              "      <td>0</td>\n",
              "      <td>68</td>\n",
              "      <td>50</td>\n",
              "      <td>4</td>\n",
              "    </tr>\n",
              "    <tr>\n",
              "      <th>4</th>\n",
              "      <td>6</td>\n",
              "      <td>0</td>\n",
              "      <td>67</td>\n",
              "      <td>50</td>\n",
              "      <td>5</td>\n",
              "    </tr>\n",
              "  </tbody>\n",
              "</table>\n",
              "</div>"
            ],
            "text/plain": [
              "   variable1  target  variable2  variable3  variable4\n",
              "0          6       0         66         50          1\n",
              "1          6       1         70         50          2\n",
              "2          6       0         69         50          3\n",
              "3          6       0         68         50          4\n",
              "4          6       0         67         50          5"
            ]
          },
          "metadata": {
            "tags": []
          },
          "execution_count": 4
        }
      ]
    },
    {
      "cell_type": "code",
      "metadata": {
        "colab": {
          "base_uri": "https://localhost:8080/"
        },
        "id": "-9Yh6XZkDpGt",
        "outputId": "16aa0b3e-294e-44ed-cf77-1b8263ec5c01"
      },
      "source": [
        "#v=np.genfromtxt('/content/drive/My Drive/IA_TEC/tarea2/o-ring-erosion-only.csv')"
      ],
      "execution_count": null,
      "outputs": [
        {
          "output_type": "stream",
          "text": [
            "0.0\n",
            "[[  6.   0.  66.  50.   1.]\n",
            " [  6.   1.  70.  50.   2.]\n",
            " [  6.   0.  69.  50.   3.]\n",
            " [  6.   0.  68.  50.   4.]\n",
            " [  6.   0.  67.  50.   5.]\n",
            " [  6.   0.  72.  50.   6.]\n",
            " [  6.   0.  73. 100.   7.]\n",
            " [  6.   0.  70. 100.   8.]\n",
            " [  6.   1.  57. 200.   9.]\n",
            " [  6.   1.  63. 200.  10.]\n",
            " [  6.   1.  70. 200.  11.]\n",
            " [  6.   0.  78. 200.  12.]\n",
            " [  6.   0.  67. 200.  13.]\n",
            " [  6.   2.  53. 200.  14.]\n",
            " [  6.   0.  67. 200.  15.]\n",
            " [  6.   0.  75. 200.  16.]\n",
            " [  6.   0.  70. 200.  17.]\n",
            " [  6.   0.  81. 200.  18.]\n",
            " [  6.   0.  76. 200.  19.]\n",
            " [  6.   0.  79. 200.  20.]\n",
            " [  6.   0.  75. 200.  21.]\n",
            " [  6.   0.  76. 200.  22.]\n",
            " [  6.   1.  58. 200.  23.]]\n"
          ],
          "name": "stdout"
        }
      ]
    },
    {
      "cell_type": "markdown",
      "metadata": {
        "id": "WlvZ64rpNs82"
      },
      "source": [
        "##separar entradas y salidas\n"
      ]
    },
    {
      "cell_type": "code",
      "metadata": {
        "id": "8zb5wMSlN4my",
        "colab": {
          "base_uri": "https://localhost:8080/"
        },
        "outputId": "fd8cff8a-5f18-4336-a363-3efcb0b00ee3"
      },
      "source": [
        "#Separar los datos para el caso del ejercicio del sonido\n",
        "d_1en=datos1.drop(['target'], axis=1)\n",
        "d_1sa=datos1.drop(['variable1',\t'variable2',\t'variable3',\t'variable4','variable5'], axis=1)\n",
        "#Separar los datos para del orin\n",
        "d_2en=datos2.drop(['target',\t'variable4'], axis=1)\n",
        "d_2sa=datos2.drop(['variable1',\t'variable2',\t'variable3',\t'variable4'], axis=1)\n",
        "print(d_1en)"
      ],
      "execution_count": null,
      "outputs": [
        {
          "output_type": "stream",
          "text": [
            "      variable1  variable2  variable3  variable4  variable5\n",
            "0           800        0.0     0.3048       71.3   0.002663\n",
            "1          1000        0.0     0.3048       71.3   0.002663\n",
            "2          1250        0.0     0.3048       71.3   0.002663\n",
            "3          1600        0.0     0.3048       71.3   0.002663\n",
            "4          2000        0.0     0.3048       71.3   0.002663\n",
            "...         ...        ...        ...        ...        ...\n",
            "1498       2500       15.6     0.1016       39.6   0.052849\n",
            "1499       3150       15.6     0.1016       39.6   0.052849\n",
            "1500       4000       15.6     0.1016       39.6   0.052849\n",
            "1501       5000       15.6     0.1016       39.6   0.052849\n",
            "1502       6300       15.6     0.1016       39.6   0.052849\n",
            "\n",
            "[1503 rows x 5 columns]\n"
          ],
          "name": "stdout"
        }
      ]
    },
    {
      "cell_type": "code",
      "metadata": {
        "colab": {
          "base_uri": "https://localhost:8080/"
        },
        "id": "mm9FZzjlvGe0",
        "outputId": "c8f0d5ae-102e-464a-d4db-2d513c0c2937"
      },
      "source": [
        "#Para normalizar los datos\n",
        "\n",
        "#Para el caso del ejercicio del sonido\n",
        "d_1e=d_1en/d_1en.max(axis=0)\n",
        "max1=d_1sa.max(axis=0)\n",
        "max11=np.array(max1)\n",
        "d_1s=d_1sa/d_1sa.max(axis=0)\n",
        "\n",
        "#Para el caso del o ring\n",
        "d_2e=d_2en/d_2en.max(axis=0)\n",
        "max2=d_2sa.max(axis=0)\n",
        "max22=np.array(max2)\n",
        "#print('hola',max22)\n",
        "d_2s=d_2sa/d_2sa.max(axis=0)\n",
        "print(max11[0], max22[0])\n",
        "\n",
        "#Convertir los datos a array\n",
        "#Para el caso del ejercicio del sonido\n",
        "#d_1e=np.array(d_1e)\n",
        "#d_1s=np.array(d_1s)\n",
        "#Para el caso del orin\n",
        "#d_2e=np.array(d_2e)\n",
        "#d_2s=np.array(d_2s)\n"
      ],
      "execution_count": null,
      "outputs": [
        {
          "output_type": "stream",
          "text": [
            "140.987 2\n"
          ],
          "name": "stdout"
        }
      ]
    },
    {
      "cell_type": "markdown",
      "metadata": {
        "id": "6RC4fOvCIMYT"
      },
      "source": [
        "# Funciones"
      ]
    },
    {
      "cell_type": "markdown",
      "metadata": {
        "id": "4rCs3RHCNYve"
      },
      "source": [
        "## Ingresar Datos"
      ]
    },
    {
      "cell_type": "code",
      "metadata": {
        "id": "TB-pbt3pNbw9"
      },
      "source": [
        "#Ingresar datos\n",
        "#Cantidad de neuronas por Capa\n",
        "def ingresar_datos():\n",
        "  entrada=input(\"Digite el numero de entradas:  \")\n",
        "  salida=input(\"Digite el numero de salia:  \")\n",
        "  oculta=input(\"Digite el numero de neuronas en la capa oculta:  \")\n",
        "  #Tasa de aprendizaje y modalidad\n",
        "  t_aprendizaje=input(\"Digite el numero de tasa de aprendizaje:  \")\n",
        "  m_aprendizaje=input(\"Digite 1 para tasa fija, 2 para tasa variable:  \")\n",
        "  #Funcion a usar\n",
        "  fun=input(\"Digite 1 para sigmoide, 2 para tangente hiperbolica, 3 RelU:  \")\n",
        "  print (entrada, salida, oculta,t_aprendizaje, m_aprendizaje, fun)\n",
        "  return entrada, salida, oculta,t_aprendizaje, m_aprendizaje, fun\n"
      ],
      "execution_count": null,
      "outputs": []
    },
    {
      "cell_type": "markdown",
      "metadata": {
        "id": "9ZiRbgUFIhtN"
      },
      "source": [
        "##Definicion inicial de los pesos"
      ]
    },
    {
      "cell_type": "code",
      "metadata": {
        "id": "esQC2cUYJqVX"
      },
      "source": [
        "def pesos_iniciales(entrada, salida, oculta):\n",
        "  #en esta funcion se asignaran los pesos iniciales a las conecciones\n",
        "  #de las neuronas los cuales se asignanaleatoriamente\n",
        "  #Peo se refiere al array de datos entre la capa de entrada y capa oculta\n",
        "  #Pos se refiere al array de datos entre la capa oculta y la capa de salida\n",
        "  Peo=np.random.rand(entrada, oculta)\n",
        "  Pos=np.random.rand(oculta, salida)\n",
        "  # en donde la fila corresponde a la posicion de la nuerona de salida, \n",
        "  # y la columna la neurona a la que llega\n",
        "  return Peo, Pos"
      ],
      "execution_count": null,
      "outputs": []
    },
    {
      "cell_type": "markdown",
      "metadata": {
        "id": "N5PAGHt3LXGL"
      },
      "source": [
        "## Funcion"
      ]
    },
    {
      "cell_type": "code",
      "metadata": {
        "id": "CZrAf0aJMYPW"
      },
      "source": [
        "#Se elije la funcion a utilizar\n",
        "def func(fun,x):\n",
        "  # Se crea una matriz del mismo tamaño que x\n",
        "  #de 0, a la cual se le actualizaran los valores\n",
        "  f=len (x)#cantidad de filas\n",
        "  c=len(x[0])#cantidad de columnas\n",
        "  x2=np.zeros((f,c))\n",
        "  if fun ==1: #funcion sigmoide\n",
        "    for i in range(f):\n",
        "      for j in range(c):\n",
        "        x1=x[i,j]\n",
        "        sig=1 / (1 + math.exp(-x1))\n",
        "        x2[i,j]=sig\n",
        "  elif fun ==2:#Funcion tangente hiperbolica\n",
        "    for i in range(f):\n",
        "      for j in range(c):\n",
        "        x1=x[i,j]\n",
        "        tan=math.atanh(x1)\n",
        "        x2[i,j]=tan\n",
        "  elif fun ==3: #Funcion RelU\n",
        "    for i in range(f):\n",
        "      for j in range(c):\n",
        "        x1=x[i,j]\n",
        "        if x1==0 or x1<0:\n",
        "          rel= 0\n",
        "        else:\n",
        "          rel=x\n",
        "        x2[i,j]=rel\n",
        "  return (x2)"
      ],
      "execution_count": null,
      "outputs": []
    },
    {
      "cell_type": "markdown",
      "metadata": {
        "id": "5FGEHwgkIqNW"
      },
      "source": [
        "##Prediccion de valor"
      ]
    },
    {
      "cell_type": "code",
      "metadata": {
        "id": "WFjVqaqqJq6E",
        "colab": {
          "base_uri": "https://localhost:8080/"
        },
        "outputId": "27646cc0-8e48-4335-93c1-6f0c4d3cdbab"
      },
      "source": [
        "#v_entrada corresponde al array de las entradas\n",
        "# Z es la suma de los productos\n",
        "# A1 son las salidas de la capa oculta\n",
        "# x es el array \n",
        "\n",
        "#datos para pruebas\n",
        "x= np.array([[4.1, 5],[8,3],[15,2]])\n",
        "print(x)\n",
        "\n",
        "Peo= np.array([[0.2,0.5],[0.3,0.6]])\n",
        "\n",
        "Pos= np.array([[0.5],[0.6]])\n",
        "\n",
        "\n",
        "def sigmoide(x):\n",
        "  f=len (x)#cantidad de filas\n",
        "  c=len(x[0])#cantidad de columnas\n",
        "  x2=np.zeros((f,c))\n",
        "  for i in range(f):\n",
        "    for j in range(c):\n",
        "      x1=x[i,j]\n",
        "      \n",
        "      #sig=lambda x: 1 / (1 + np.e**(-x1))\n",
        "      sig=1 / (1 + math.exp(-x1))\n",
        "      x2[i,j]=sig\n",
        "  \n",
        "  return (x2)\n",
        "\n",
        "#def calcular_salida(v_entrada, Peo, Pos):\n",
        "def calcular_salida(v_entrada, Peo, Pos,fun):\n",
        "    Z1 = np.dot(v_entrada,Peo) #suma de producton para la capa oculta\n",
        "    #print('z1',Z1)\n",
        "    #A1 = sigmoide(Z1) \n",
        "    A1 = func(fun, Z1) \n",
        "    #print('A1',A1)\n",
        "    Z2 = np.dot(A1,Pos)# Suma de productos para las salidas\n",
        "    #print('z2',Z2)\n",
        "    #salida_prediccion = sigmoide(Z2)\n",
        "    salida_prediccion = func(fun, Z2) \n",
        "    #print('salida',salida_prediccion)\n",
        "    return salida_prediccion, A1\n",
        "\n",
        "#s= calcular_salida(x, Peo, Pos,1)"
      ],
      "execution_count": null,
      "outputs": [
        {
          "output_type": "stream",
          "text": [
            "[[ 4.1  5. ]\n",
            " [ 8.   3. ]\n",
            " [15.   2. ]]\n"
          ],
          "name": "stdout"
        }
      ]
    },
    {
      "cell_type": "markdown",
      "metadata": {
        "id": "cU7LhFokDK9d"
      },
      "source": [
        "## Derivada de las funciones"
      ]
    },
    {
      "cell_type": "code",
      "metadata": {
        "id": "LYTgdShQDQ3R"
      },
      "source": [
        "#Se elije la funcion a utilizar\n",
        "#x es el array al cual se debe aplicar la derivada\n",
        "#NOTA las derivas para RelU y tan.h estan mal debido a como se recorre los indices del array\n",
        "def der_func(fun,x):\n",
        "   # Se crea una matriz del mismo tamaño que x\n",
        "  #de 0, a la cual se le actualizaran los valores\n",
        "  f=len (x)#cantidad de filas\n",
        "  c=len(x[0])#cantidad de columnas\n",
        "  x2=np.zeros((f,c))\n",
        "  if fun ==1: #funcion sigmoide\n",
        "    for i in range(f):\n",
        "      for j in range(c):\n",
        "        x1=x[i,j]\n",
        "        sig=math.exp(-x1) / ((1 + math.exp(-x1))**2)\n",
        "        x2[i,j]=sig\n",
        "  elif fun ==2:#Funcion tangente hiperbolica\n",
        "    for i in range(f):\n",
        "      for j in range(c):\n",
        "        x1=x[i,j]\n",
        "        tan=1/(math.cosh(x1))**2\n",
        "        x2[i,j]=tan\n",
        "  elif fun ==3: #Funcion RelU\n",
        "    for i in range(f):\n",
        "      for j in range(c):\n",
        "        x1=x[i,j]\n",
        "        if x1==0 or x1<0:\n",
        "          rel= 0\n",
        "        else:\n",
        "          rel=1\n",
        "        x2[i,j]=rel\n",
        "  return (x2)\n"
      ],
      "execution_count": null,
      "outputs": []
    },
    {
      "cell_type": "markdown",
      "metadata": {
        "id": "IjpPFLQvIqep"
      },
      "source": [
        "##Retropropagacion\n"
      ]
    },
    {
      "cell_type": "code",
      "metadata": {
        "id": "pMaRm3Y5JrXK"
      },
      "source": [
        "# a la retropropagacion le agregamos la tasa de aprendizaje.\n",
        "#v_entrada corresponde al array de las entradas\n",
        "#v_salida corresponde al array de las salidas reales\n",
        " \n",
        "  \n",
        "def Retropropagacion(v_entrada, v_salida, A1, salida_prediccion, Peo, Pos, fun, t_aprendizaje, m_aprendizaje ):\n",
        "    if m_aprendizaje==2:\n",
        "      suma = random.randint(0, 1) #aleatoriamente se decide si se sumará o restará el valor\n",
        "      percent = random.uniform(0.01, 0.25) #se determina qué porcentaje del promedio de suma o resta\n",
        "      if suma == 1:\n",
        "        t_aprendizaje = t_aprendizaje + percent*t_aprendizaje #se suma el porcentaje por el promedio, almacenado en nuevo arreglo\n",
        "      else:\n",
        "        t_aprendizaje = t_aprendizaje - percent*t_aprendizaje#se resta el porcentaje por el promedio\n",
        "    #calulo del gradiente, con el efecto de la tasa de aprendizaje\n",
        "    d_Pos = t_aprendizaje* np.dot(A1.T, (2*(v_salida - salida_prediccion) * der_func(fun, salida_prediccion)))\n",
        "    d_Peo = t_aprendizaje*np.dot(v_entrada.T,  (np.dot(2*(v_salida - salida_prediccion) * der_func(fun, salida_prediccion), Pos.T) * der_func(fun, A1)))\n",
        "    #Actualizar los pesos\n",
        "    Pos+=d_Pos\n",
        "    Peo+=d_Peo\n",
        "    #Devuelve los pesos actualizados\n",
        "    return Peo,Pos"
      ],
      "execution_count": null,
      "outputs": []
    },
    {
      "cell_type": "markdown",
      "metadata": {
        "id": "LKAmerljEaNZ"
      },
      "source": [
        "## Datos entrenamiento y verificacion"
      ]
    },
    {
      "cell_type": "code",
      "metadata": {
        "id": "Dpu1PIFVOei1"
      },
      "source": [
        "# se utilizaran el 30% de los datos para la verificacion\n",
        "def datos(N, datos):\n",
        "  N_ver=round(N*0.3)\n",
        "  c=1 #contador de datos de prueba\n",
        "  d_entrenamiento=[]\n",
        "  d_verificacion=[]\n",
        "  for i in range(N):\n",
        "    aleatorio = random.randint(0, 1) # si el valor es 0 el dato es de entrenamiento, 1 verificacion\n",
        "    valor=datos[i:i+1]\n",
        "    if aleatorio==1 and c<=N_ver:\n",
        "      d_verificacion.append(valor)\n",
        "      c=c+1\n",
        "    else:\n",
        "       d_entrenamiento.append(valor)\n",
        "  #En el caso de no llegar al 30% de los datos con el for anterior se tiene el siguiente while\n",
        "  while c<=N_ver:\n",
        "    N_e=d_entrenamiento.shape[0]\n",
        "    for i in range(N):\n",
        "      aleatorio = random.randint(0, 1) # si el valor es 0 el dato es de entrenamiento, 1 verificacion\n",
        "      valor=d_entrenamiento[i]\n",
        "      if aleatorio==1 and c<=N_ver:\n",
        "        d_verificacion.append(valor)#agrega el valor al array de verificacion\n",
        "        d_entrenamiento.pop(i)#elimina de los datos de entrenamiento al dato que se agrego a verificacion\n",
        "        c=c+1\n",
        "\n",
        "  return d_verificacion, d_entrenamiento\n",
        "\n",
        "  "
      ],
      "execution_count": null,
      "outputs": []
    },
    {
      "cell_type": "markdown",
      "metadata": {
        "id": "-TOw7BM8SJNj"
      },
      "source": [
        "## Version2 de separar entreno de verificacion"
      ]
    },
    {
      "cell_type": "code",
      "metadata": {
        "id": "BdkTby6nSCkU"
      },
      "source": [
        "# se utilizaran el 30% de los datos para la verificacion\n",
        "def datosselec(N, entrada,salida):\n",
        "  #print(entrada)\n",
        "  N_ver=round(N*0.3)\n",
        "  c=1 #contador de datos de prueba\n",
        "  #vectores de entrenamiento\n",
        "  v_entrada=[]\n",
        "  v_salida=[]\n",
        "  #vectores de verificacion\n",
        "  v_entrada_v=[]\n",
        "  v_salida_v=[]\n",
        "\n",
        "  for i in range(N):\n",
        "    aleatorio = random.randint(0, 1) # si el valor es 0 el dato es de entrenamiento, 1 verificacion\n",
        "    #dato que se va a seleccionar como entrenamiento o verificacion\n",
        "    valor_e=entrada[i:i+1]\n",
        "    #print(valor_e)\n",
        "    valor_s=salida[i:i+1]\n",
        "    if aleatorio==1 and c<=N_ver:#si es para verificacion\n",
        "      v_entrada_v.append(valor_e)\n",
        "      v_salida_v.append(valor_s)\n",
        "      c=c+1\n",
        "    else:#si es para entrenamiento\n",
        "       v_entrada.append(valor_e)\n",
        "       v_salida.append(valor_s)\n",
        "  #En el caso de no llegar al 30% de los datos con el for anterior se tiene el siguiente while\n",
        "  while c<=N_ver:\n",
        "    N_e=v_entrada.shape[0]\n",
        "    for i in range(N_e):\n",
        "      aleatorio = random.randint(0, 1) # si el valor es 0 el dato es de entrenamiento, 1 verificacion\n",
        "      \n",
        "      valor_e=v_entrada[i]\n",
        "      valor_s=v_salida[i]\n",
        "      \n",
        "      \n",
        "      if aleatorio==1 and c<=N_ver:\n",
        "        #agregar datos\n",
        "        v_entrada_v.append(valor_e)\n",
        "        v_salida_v.append(valor_s)\n",
        "        #eliminar datos\n",
        "        v_entrada.pop(i)\n",
        "        v_salida.pop(i)[i]\n",
        "        c=c+1\n",
        "  #convierto la lista del dataframe a array\n",
        "  #sin embargo crea un array con 3 indices\n",
        "  v_entrada=np.array(v_entrada)\n",
        "  v_salida=np.array(v_salida)\n",
        "  v_entrada_v=np.array(v_entrada_v)\n",
        "  v_salida_v=np.array(v_salida_v)\n",
        "  #para dejar el array con 2 indices\n",
        "  v_entrada2in=[]\n",
        "  v_salida2in=[]\n",
        "  v_entrada_v2in=[]\n",
        "  v_salida_v2in=[]\n",
        "  #para el caso de entrenamiento\n",
        "  for i in range(len(v_entrada)):\n",
        "    ent_e= v_entrada[i][0]#para la entrada\n",
        "    ent_s=v_salida[i][0]#para la salida\n",
        "    v_entrada2in.append(ent_e)\n",
        "    v_salida2in.append(ent_s)\n",
        "  v_entrada2=np.array(v_entrada2in)\n",
        "  v_salida2=np.array(v_salida2in)\n",
        "  #para verificacion\n",
        "  for i in range(len(v_entrada_v)):\n",
        "    ent_e= v_entrada_v[i][0]#para la entrada\n",
        "    ent_s=v_salida_v[i][0]#para la salida\n",
        "    v_entrada_v2in.append(ent_e)\n",
        "    v_salida_v2in.append(ent_s)\n",
        "  v_entrada_v2=np.array(v_entrada_v2in)\n",
        "  v_salida_v2=np.array(v_salida_v2in)\n",
        "\n",
        "\n",
        "  return v_entrada2, v_salida2,v_entrada_v2, v_salida_v2"
      ],
      "execution_count": null,
      "outputs": []
    },
    {
      "cell_type": "code",
      "metadata": {
        "colab": {
          "base_uri": "https://localhost:8080/"
        },
        "id": "qa3CcIj0UWo8",
        "outputId": "0ff6a684-218f-4d57-bf52-94a525abc06b"
      },
      "source": [
        "N=datos1.shape[0]\n",
        "\n",
        "#d_1e=np.array(d_1e)\n",
        "#print(d_1e)\n",
        "#print(d_1e[1])\n",
        "#print(d_1e[1][0])\n",
        "#print(d_1e)\n",
        "\n",
        "v_entrada, v_salida,v_entrada_v, v_salida_v=datosselec(N, d_1e,d_1s)\n",
        "print('v_salida')\n",
        "print(v_salida_v)\n",
        "#print(len(v_entrada[0]))\n",
        "h=np.array(v_entrada)\n",
        "#print(h)\n",
        "#print(len(h))\n",
        "#print(len(h[0][0]))\n",
        "#print(h[0][0])\n",
        "#print(h[1][0])\n",
        "#print(h[0][0][4])\n",
        "\n",
        "\n",
        "\n",
        "#comentar cambio\n",
        "nuevo=[]\n",
        "#print('nuevo')\n",
        "\n",
        "for i in range(len(v_entrada)):\n",
        "    ac=h[i][0]\n",
        "    #print(ac)\n",
        "    nuevo.append(ac)\n",
        "#print(nuevo)\n",
        "dato=np.array(nuevo)\n",
        "#print(dato)\n",
        "\n",
        "print('entrenar')\n",
        "print('entrada')\n",
        "print(len(v_entrada))\n",
        "print('salida')\n",
        "print(len(v_salida))\n",
        "print('_____')\n",
        "print('_____')\n",
        "print('_____')\n",
        "print('verificar')\n",
        "print('entrada')\n",
        "print(len(v_entrada_v))\n",
        "print('salida')\n",
        "print(len(v_salida_v))"
      ],
      "execution_count": null,
      "outputs": [
        {
          "output_type": "stream",
          "text": [
            "v_salida\n",
            "[[0.046 0.904]\n",
            " [0.046 0.888]\n",
            " [0.046 0.873]\n",
            " [0.046 0.848]\n",
            " [0.046 0.831]\n",
            " [0.046 0.818]\n",
            " [0.048 0.908]\n",
            " [0.048 0.901]\n",
            " [0.048 0.894]\n",
            " [0.048 0.898]\n",
            " [0.048 0.88 ]\n",
            " [0.048 0.874]\n",
            " [0.048 0.859]\n",
            " [0.048 0.826]\n",
            " [0.048 0.788]\n",
            " [0.053 0.838]\n",
            " [0.053 0.846]\n",
            " [0.053 0.885]\n",
            " [0.053 0.916]\n",
            " [0.053 0.907]\n",
            " [0.053 0.89 ]\n",
            " [0.053 0.846]\n",
            " [0.053 0.824]\n",
            " [0.053 0.814]\n",
            " [0.053 0.795]\n",
            " [0.057 0.831]\n",
            " [0.057 0.841]\n",
            " [0.057 0.887]\n",
            " [0.057 0.903]\n",
            " [0.057 0.916]\n",
            " [0.057 0.917]\n",
            " [0.057 0.882]\n",
            " [0.057 0.868]\n",
            " [0.057 0.845]\n",
            " [0.057 0.838]\n",
            " [0.057 0.807]\n",
            " [0.057 0.784]\n",
            " [0.057 0.768]\n",
            " [0.058 0.902]\n",
            " [0.058 0.894]\n",
            " [0.058 0.893]\n",
            " [0.058 0.898]\n",
            " [0.058 0.864]\n",
            " [0.058 0.849]\n",
            " [0.058 0.838]\n",
            " [0.058 0.818]\n",
            " [0.058 0.805]\n",
            " [0.058 0.775]\n",
            " [0.058 0.756]\n",
            " [0.067 0.898]\n",
            " [0.067 0.914]\n",
            " [0.067 0.905]\n",
            " [0.067 0.867]\n",
            " [0.067 0.866]\n",
            " [0.067 0.845]\n",
            " [0.067 0.835]\n",
            " [0.067 0.824]\n",
            " [0.067 0.814]\n",
            " [0.067 0.773]\n",
            " [0.073 0.917]\n",
            " [0.073 0.905]\n",
            " [0.073 0.897]\n",
            " [0.073 0.89 ]\n",
            " [0.073 0.862]\n",
            " [0.073 0.838]\n",
            " [0.073 0.824]\n",
            " [0.077 0.895]\n",
            " [0.077 0.909]\n",
            " [0.077 0.917]\n",
            " [0.077 0.842]\n",
            " [0.077 0.832]\n",
            " [0.085 0.89 ]\n",
            " [0.085 0.905]\n",
            " [0.085 0.91 ]\n",
            " [0.085 0.892]\n",
            " [0.085 0.855]\n",
            " [0.085 0.852]\n",
            " [0.085 0.821]\n",
            " [0.085 0.809]\n",
            " [0.091 0.873]\n",
            " [0.091 0.905]\n",
            " [0.091 0.913]\n",
            " [0.091 0.9  ]\n",
            " [0.091 0.885]\n",
            " [0.091 0.848]\n",
            " [0.091 0.82 ]\n",
            " [0.085 0.919]\n",
            " [0.085 0.927]\n",
            " [0.085 0.934]\n",
            " [0.085 0.935]\n",
            " [0.085 0.929]\n",
            " [0.085 0.918]\n",
            " [0.085 0.882]\n",
            " [0.085 0.864]\n",
            " [0.085 0.835]\n",
            " [0.085 0.762]\n",
            " [0.099 0.93 ]\n",
            " [0.099 0.927]\n",
            " [0.099 0.913]\n",
            " [0.037 0.916]\n",
            " [0.037 0.91 ]\n",
            " [0.037 0.892]\n",
            " [0.037 0.882]\n",
            " [0.037 0.838]\n",
            " [0.037 0.812]\n",
            " [0.039 0.878]\n",
            " [0.039 0.895]\n",
            " [0.039 0.905]\n",
            " [0.039 0.91 ]\n",
            " [0.039 0.898]\n",
            " [0.039 0.868]\n",
            " [0.039 0.84 ]\n",
            " [0.043 0.859]\n",
            " [0.043 0.876]\n",
            " [0.043 0.889]\n",
            " [0.043 0.884]\n",
            " [0.047 0.926]\n",
            " [0.047 0.891]\n",
            " [0.047 0.876]\n",
            " [0.047 0.876]\n",
            " [0.047 0.866]\n",
            " [0.05  0.887]\n",
            " [0.05  0.897]\n",
            " [0.05  0.914]\n",
            " [0.05  0.9  ]\n",
            " [0.05  0.88 ]\n",
            " [0.05  0.871]\n",
            " [0.05  0.857]\n",
            " [0.05  0.802]\n",
            " [0.054 0.913]\n",
            " [0.054 0.884]\n",
            " [0.059 0.866]\n",
            " [0.059 0.888]\n",
            " [0.059 0.915]\n",
            " [0.059 0.893]\n",
            " [0.059 0.871]\n",
            " [0.059 0.861]\n",
            " [0.059 0.863]\n",
            " [0.059 0.826]\n",
            " [0.064 0.875]\n",
            " [0.064 0.899]\n",
            " [0.064 0.915]\n",
            " [0.064 0.924]\n",
            " [0.064 0.913]\n",
            " [0.064 0.892]\n",
            " [0.064 0.862]\n",
            " [0.064 0.855]\n",
            " [0.064 0.817]\n",
            " [0.069 0.927]\n",
            " [0.069 0.934]\n",
            " [0.069 0.918]\n",
            " [0.069 0.895]\n",
            " [0.069 0.863]\n",
            " [0.069 0.859]\n",
            " [0.069 0.841]\n",
            " [0.069 0.81 ]\n",
            " [0.069 0.778]\n",
            " [0.073 0.922]\n",
            " [0.073 0.935]\n",
            " [0.073 0.937]\n",
            " [0.073 0.931]\n",
            " [0.073 0.91 ]\n",
            " [0.073 0.881]\n",
            " [0.073 0.868]\n",
            " [0.073 0.856]\n",
            " [0.073 0.831]\n",
            " [0.073 0.798]\n",
            " [0.081 0.867]\n",
            " [0.081 0.834]\n",
            " [0.081 0.81 ]\n",
            " [0.087 0.852]\n",
            " [0.087 0.877]\n",
            " [0.087 0.915]\n",
            " [0.087 0.909]\n",
            " [0.087 0.866]\n",
            " [0.087 0.799]\n",
            " [0.089 0.906]\n",
            " [0.089 0.947]\n",
            " [0.089 0.925]\n",
            " [0.089 0.873]\n",
            " [0.089 0.853]\n",
            " [0.089 0.837]\n",
            " [0.089 0.829]\n",
            " [0.089 0.79 ]\n",
            " [0.105 0.901]\n",
            " [0.105 0.92 ]\n",
            " [0.105 0.936]\n",
            " [0.105 0.918]\n",
            " [0.105 0.891]\n",
            " [0.105 0.873]\n",
            " [0.105 0.836]\n",
            " [0.105 0.798]\n",
            " [0.179 0.992]\n",
            " [0.179 0.992]\n",
            " [0.179 0.989]\n",
            " [0.179 0.97 ]\n",
            " [0.179 0.949]\n",
            " [0.179 0.927]\n",
            " [0.179 0.892]\n",
            " [0.179 0.854]\n",
            " [0.179 0.846]\n",
            " [0.191 0.964]\n",
            " [0.191 0.929]\n",
            " [0.191 0.911]\n",
            " [0.191 0.892]\n",
            " [0.191 0.875]\n",
            " [0.191 0.844]\n",
            " [0.191 0.831]\n",
            " [0.191 0.832]\n",
            " [0.191 0.803]\n",
            " [0.211 0.924]\n",
            " [0.211 0.859]\n",
            " [0.211 0.827]\n",
            " [0.211 0.794]\n",
            " [0.227 0.924]\n",
            " [0.227 0.909]\n",
            " [0.227 0.895]\n",
            " [0.227 0.855]\n",
            " [0.227 0.844]\n",
            " [0.227 0.818]\n",
            " [0.227 0.803]\n",
            " [0.227 0.788]\n",
            " [0.027 0.892]\n",
            " [0.027 0.903]\n",
            " [0.027 0.92 ]\n",
            " [0.027 0.897]\n",
            " [0.027 0.869]\n",
            " [0.027 0.853]\n",
            " [0.027 0.83 ]\n",
            " [0.027 0.804]\n",
            " [0.03  0.899]\n",
            " [0.03  0.912]\n",
            " [0.03  0.923]\n",
            " [0.03  0.906]\n",
            " [0.03  0.906]\n",
            " [0.033 0.882]\n",
            " [0.033 0.907]\n",
            " [0.033 0.929]\n",
            " [0.033 0.919]\n",
            " [0.033 0.889]\n",
            " [0.033 0.86 ]\n",
            " [0.033 0.855]\n",
            " [0.036 0.868]\n",
            " [0.036 0.849]\n",
            " [0.042 0.904]\n",
            " [0.042 0.901]\n",
            " [0.042 0.882]\n",
            " [0.042 0.828]\n",
            " [0.05  0.858]\n",
            " [0.05  0.892]\n",
            " [0.05  0.914]\n",
            " [0.05  0.909]\n",
            " [0.05  0.872]\n",
            " [0.05  0.862]\n",
            " [0.05  0.827]\n",
            " [0.05  0.771]\n",
            " [0.069 0.896]\n",
            " [0.069 0.931]\n",
            " [0.069 0.945]\n",
            " [0.069 0.951]\n",
            " [0.069 0.945]\n",
            " [0.069 0.93 ]\n",
            " [0.069 0.905]\n",
            " [0.069 0.861]\n",
            " [0.074 0.944]\n",
            " [0.074 0.937]\n",
            " [0.074 0.928]\n",
            " [0.074 0.926]\n",
            " [0.074 0.88 ]\n",
            " [0.074 0.862]\n",
            " [0.074 0.849]\n",
            " [0.074 0.832]\n",
            " [0.074 0.815]\n",
            " [0.083 0.889]\n",
            " [0.083 0.922]\n",
            " [0.083 0.942]\n",
            " [0.083 0.926]\n",
            " [0.083 0.902]\n",
            " [0.083 0.896]\n",
            " [0.083 0.884]\n",
            " [0.083 0.855]\n",
            " [0.083 0.845]\n",
            " [0.083 0.831]\n",
            " [0.083 0.83 ]\n",
            " [0.09  0.906]\n",
            " [0.09  0.92 ]\n",
            " [0.09  0.933]\n",
            " [0.09  0.91 ]\n",
            " [0.09  0.879]\n",
            " [0.09  0.824]\n",
            " [0.09  0.82 ]\n",
            " [0.129 0.956]\n",
            " [0.129 0.965]\n",
            " [0.129 0.94 ]\n",
            " [0.129 0.882]\n",
            " [0.129 0.828]\n",
            " [0.129 0.839]\n",
            " [0.129 0.827]\n",
            " [0.129 0.804]\n",
            " [0.129 0.782]\n",
            " [0.156 0.904]\n",
            " [0.156 0.926]\n",
            " [0.156 0.939]\n",
            " [0.156 0.852]\n",
            " [0.156 0.833]\n",
            " [0.156 0.793]\n",
            " [0.156 0.81 ]\n",
            " [0.156 0.791]\n",
            " [0.33  0.961]\n",
            " [0.33  0.958]\n",
            " [0.33  0.87 ]\n",
            " [0.33  0.864]\n",
            " [0.33  0.816]\n",
            " [0.33  0.795]\n",
            " [0.357 0.936]\n",
            " [0.357 0.933]\n",
            " [0.357 0.907]\n",
            " [0.357 0.884]\n",
            " [0.357 0.85 ]\n",
            " [0.357 0.84 ]\n",
            " [0.357 0.816]\n",
            " [0.357 0.801]\n",
            " [0.399 0.903]\n",
            " [0.399 0.91 ]\n",
            " [0.399 0.9  ]\n",
            " [0.399 0.897]\n",
            " [0.399 0.896]\n",
            " [0.399 0.855]\n",
            " [0.399 0.841]\n",
            " [0.399 0.836]\n",
            " [0.399 0.779]\n",
            " [0.433 0.903]\n",
            " [0.433 0.912]\n",
            " [0.433 0.914]\n",
            " [0.433 0.915]\n",
            " [0.433 0.902]\n",
            " [0.433 0.89 ]\n",
            " [0.433 0.841]\n",
            " [0.433 0.831]\n",
            " [0.433 0.829]\n",
            " [0.433 0.796]\n",
            " [0.433 0.791]\n",
            " [0.433 0.78 ]\n",
            " [0.433 0.771]\n",
            " [0.827 0.911]\n",
            " [0.827 0.863]\n",
            " [0.827 0.873]\n",
            " [0.827 0.855]\n",
            " [0.827 0.833]\n",
            " [0.827 0.817]\n",
            " [0.827 0.804]\n",
            " [0.827 0.761]\n",
            " [1.    0.814]\n",
            " [1.    0.822]\n",
            " [1.    0.823]\n",
            " [1.    0.822]\n",
            " [1.    0.815]\n",
            " [1.    0.786]\n",
            " [1.    0.741]\n",
            " [0.013 0.918]\n",
            " [0.013 0.912]\n",
            " [0.013 0.92 ]\n",
            " [0.013 0.93 ]\n",
            " [0.013 0.931]\n",
            " [0.013 0.928]\n",
            " [0.013 0.913]\n",
            " [0.013 0.888]\n",
            " [0.013 0.912]\n",
            " [0.013 0.95 ]\n",
            " [0.013 0.957]\n",
            " [0.013 0.905]\n",
            " [0.013 0.889]\n",
            " [0.014 0.916]\n",
            " [0.014 0.943]\n",
            " [0.014 0.964]\n",
            " [0.014 0.953]\n",
            " [0.014 0.894]\n",
            " [0.014 0.879]\n",
            " [0.014 0.929]\n",
            " [0.014 0.951]\n",
            " [0.014 0.924]\n",
            " [0.014 0.898]\n",
            " [0.014 0.845]\n",
            " [0.024 0.882]\n",
            " [0.024 0.921]\n",
            " [0.024 0.936]\n",
            " [0.024 0.917]\n",
            " [0.026 0.891]\n",
            " [0.026 0.911]\n",
            " [0.026 0.923]\n",
            " [0.026 0.949]\n",
            " [0.026 0.92 ]\n",
            " [0.026 0.892]\n",
            " [0.026 0.83 ]\n",
            " [0.091 0.936]\n",
            " [0.091 0.859]\n",
            " [0.093 0.912]\n",
            " [0.093 0.938]\n",
            " [0.093 0.87 ]\n",
            " [0.097 0.872]\n",
            " [0.097 0.911]\n",
            " [0.097 0.923]\n",
            " [0.097 0.931]\n",
            " [0.099 0.872]\n",
            " [0.099 0.893]\n",
            " [0.099 0.906]\n",
            " [0.241 0.902]\n",
            " [0.241 0.965]\n",
            " [0.241 0.971]\n",
            " [0.241 0.946]\n",
            " [0.241 0.902]\n",
            " [0.258 0.936]\n",
            " [0.258 0.949]\n",
            " [0.258 0.939]\n",
            " [0.258 0.898]\n",
            " [0.258 0.882]\n",
            " [0.258 0.849]\n",
            " [0.258 0.819]\n",
            " [0.452 0.877]\n",
            " [0.452 0.885]\n",
            " [0.452 0.903]\n",
            " [0.452 0.933]\n",
            " [0.452 0.928]\n",
            " [0.452 0.917]\n",
            " [0.452 0.905]\n",
            " [0.452 0.892]\n",
            " [0.452 0.87 ]\n",
            " [0.452 0.817]\n",
            " [0.466 0.872]\n",
            " [0.466 0.889]\n",
            " [0.466 0.897]\n",
            " [0.466 0.909]\n",
            " [0.466 0.891]\n",
            " [0.466 0.858]\n",
            " [0.466 0.801]\n",
            " [0.484 0.872]\n",
            " [0.484 0.883]\n",
            " [0.484 0.889]\n",
            " [0.484 0.907]\n",
            " [0.484 0.885]\n",
            " [0.484 0.855]\n",
            " [0.484 0.838]\n",
            " [0.484 0.778]\n",
            " [0.496 0.86 ]\n",
            " [0.496 0.871]\n",
            " [0.496 0.884]\n",
            " [0.496 0.891]\n",
            " [0.496 0.874]\n",
            " [0.496 0.837]\n",
            " [0.496 0.82 ]\n",
            " [0.496 0.767]]\n",
            "entrenar\n",
            "entrada\n",
            "1052\n",
            "salida\n",
            "1052\n",
            "_____\n",
            "_____\n",
            "_____\n",
            "verificar\n",
            "entrada\n",
            "451\n",
            "salida\n",
            "451\n"
          ],
          "name": "stdout"
        }
      ]
    },
    {
      "cell_type": "markdown",
      "metadata": {
        "id": "2b0IPscdIxRj"
      },
      "source": [
        "##Entrenamiento"
      ]
    },
    {
      "cell_type": "code",
      "metadata": {
        "id": "IBADLrBzIExs"
      },
      "source": [
        "#datos lo conforman tanto las entradas como las salidas\n",
        "#el _e, se refiere a variables de entrenamiento \n",
        "# el _v se refiere a variables de verificacion\n",
        "def entrenemiento(datos_entrada, datos_salida, entrada, salida, oculta, fun, t_aprendizaje, m_aprendizaje):\n",
        "  \n",
        "  perdida_entrenamiento=[]\n",
        "  perdida_verificacion=[]\n",
        "  iteraciones=300\n",
        "  #para el numero de datos se tiene a N\n",
        "  N=datos_entrada.shape[0]\n",
        "  #SEPARAR ENTRENAMIENTO DE VERIFICACION\n",
        "  v_entrada, v_salida,v_entrada_v, v_salida_v=datosselec(N, datos_entrada, datos_salida)\n",
        "  N_e= v_entrada.shape[0]\n",
        "  N_v= v_entrada_v.shape[0]\n",
        "  \n",
        "  # encuentra los pesos iniciales\n",
        "  Peo, Pos=pesos_iniciales(entrada, salida, oculta)\n",
        "\n",
        "  g_peso=[]\n",
        "  for i in range(iteraciones):\n",
        "    #Guardar los datos de 10 iteraciones, de un peso\n",
        "    #Se guardara la informacion de un peso que siempre vaya a existir\n",
        "    # el cual sera entre la primera neurona de la capa oculta y la salida\n",
        "    \n",
        "    if i<11:\n",
        "      g_peso.append(Pos[0,0])\n",
        "\n",
        "    #Para la verificacion\n",
        "    \n",
        "    #print(type (v_entrada_v),v_entrada_v.shape )\n",
        "    salida_v, A1_v= calcular_salida(v_entrada_v, Peo, Pos,fun)\n",
        "    perdida_iteracion_v=(1/(2*N_v))*np.sum((v_salida_v-salida_v)**2)\n",
        "    perdida_verificacion.append(perdida_iteracion_v)\n",
        "    #Para el entrenamiento\n",
        "    salida_e, A1= calcular_salida(v_entrada, Peo, Pos,fun)\n",
        "    perdida_iteracion_e=(1/(2*N_e))*np.sum((v_salida-salida_e)**2)\n",
        "    perdida_entrenamiento.append(perdida_iteracion_e)\n",
        "    Peo, Pos = Retropropagacion(v_entrada, v_salida, A1, salida_e, Peo, Pos, fun, t_aprendizaje, m_aprendizaje )\n",
        "    #print('Validacion entreno')\n",
        "    #print(perdida_iteracion_v, perdida_iteracion_e)\n",
        "    \n",
        "  \n",
        "  \n",
        "  return g_peso\n"
      ],
      "execution_count": null,
      "outputs": []
    },
    {
      "cell_type": "markdown",
      "metadata": {
        "id": "9HNWodiIY9Rg"
      },
      "source": [
        "# prueba"
      ]
    },
    {
      "cell_type": "code",
      "metadata": {
        "colab": {
          "base_uri": "https://localhost:8080/"
        },
        "id": "1EPjFegeZFzm",
        "outputId": "ada9a888-bfda-434d-fcdd-3ba633bcce3a"
      },
      "source": [
        "#d_1e=np.array(d_1e)\n",
        "#print(d_1e)\n",
        "#print(d_1e[1])\n",
        "#print(d_1e[1][0])\n",
        "entrenemiento(d_2e,d_2s, 4, 1, 3, 1, 0.1, 1)"
      ],
      "execution_count": null,
      "outputs": [
        {
          "output_type": "execute_result",
          "data": {
            "text/plain": [
              "[0.38028097907885994,\n",
              " 0.047231285661026245,\n",
              " -0.18614251033184268,\n",
              " -0.3363991161397897,\n",
              " -0.4341219391157074,\n",
              " -0.5000938048352738,\n",
              " -0.546123501332451,\n",
              " -0.5790283005429147,\n",
              " -0.6029545749455607,\n",
              " -0.6205549510949968,\n",
              " -0.633598865955371]"
            ]
          },
          "metadata": {
            "tags": []
          },
          "execution_count": 15
        }
      ]
    },
    {
      "cell_type": "markdown",
      "metadata": {
        "id": "U0E4O2YJE6LM"
      },
      "source": [
        "## Video"
      ]
    },
    {
      "cell_type": "markdown",
      "metadata": {
        "id": "WrPaP7UGFBzF"
      },
      "source": [
        "Defenir la red neuronal como una clase"
      ]
    },
    {
      "cell_type": "code",
      "metadata": {
        "id": "jxFVSDDEIdFL"
      },
      "source": [
        "\n",
        "#Defenir las capas como una clase\n",
        "#donde:\n",
        "#self parametros de la red\n",
        "# n_cs numero de neuronas de la capa siguiente\n",
        "#n_neurona es el numero de neurona de la capa\n",
        "#fun_ac funcion de activacion de la neurona\n",
        "class red_neuronal():\n",
        "  def __init__(self, n_cs,n_neurona, fun_ac):\n",
        "    self.act_f=fun_ac\n",
        "    self.w=np.random.rand(n_cs, n_neurona)"
      ],
      "execution_count": null,
      "outputs": []
    },
    {
      "cell_type": "code",
      "metadata": {
        "id": "JVnFJv9WkafA"
      },
      "source": [
        "#Ingresar datos\n",
        "#Cantidad de neuronas por Capa\n",
        "def ingresar_datos():\n",
        "  entrada=input(\"Digite el numero de entradas:  \")\n",
        "  salida=input(\"Digite el numero de salia:  \")\n",
        "  oculta=input(\"Digite el numero de neuronas en la capa oculta:  \")\n",
        "  #Tasa de aprendizaje y modalidad\n",
        "  t_aprendizaje=input(\"Digite el numero de tasa de aprendizaje:  \")\n",
        "  m_aprendizaje=input(\"Digite 1 para tasa fija, 2 para tasa variable:  \")\n",
        "  #Funcion a usar\n",
        "  fun=input(\"Digite 1 para sigmoide, 2 RelU, 3 para tangente hiperbolica:  \")\n",
        "  print (entrada, salida, oculta,t_aprendizaje, m_aprendizaje, fun)\n",
        "  return entrada, salida, oculta,t_aprendizaje, m_aprendizaje, fun"
      ],
      "execution_count": null,
      "outputs": []
    },
    {
      "cell_type": "code",
      "metadata": {
        "colab": {
          "base_uri": "https://localhost:8080/",
          "height": 337
        },
        "id": "KRZadef-dKVP",
        "outputId": "a5247fe8-9d81-486a-a98c-ac2b51f47296"
      },
      "source": [
        "\n",
        "#funciones de activación junto con sus derivadas\n",
        "#funcion sigmoide\n",
        "sig=(lambda x: 1 / (1 + np.e**(-x)),\n",
        "      lambda x: x*(1-x))\n",
        "#Para la derivada de relu\n",
        "#se requiere definir una funcion en donde se cree la matriz de salida\n",
        "def  derivarrelu(x):\n",
        "  #se optiene el tamaño del vector x\n",
        "  fila=len(x)\n",
        "  columna=len(x[0])\n",
        "\n",
        "  derf=[]#array de salida\n",
        "  for i in range(fila):\n",
        "    derc=[]#array de cada fila\n",
        "    for j in range(columna):\n",
        "      z=x[i][j]\n",
        "      if z>0:\n",
        "        derc.append(1)\n",
        "      else:\n",
        "        \n",
        "        derc.append(0)\n",
        "    derf.append(derc)\n",
        "  return derf\n",
        "#funcion relu\n",
        "relu=(lambda x: np.maximum(0,x),\n",
        "      lambda x: derivarrelu(x))\n",
        "\n",
        "#funcion tangente hiperbolica\n",
        "tanh=(lambda x: (np.tanh(x)),\n",
        "      lambda x: (1/(np.cosh(x)**2)))\n",
        "#Para elejir la funcion\n",
        "def func_acti(fun):\n",
        "  if fun==1:\n",
        "    fun_ac=sig\n",
        "  elif fun==2:\n",
        "    fun_ac=relu\n",
        "  elif fun==3:\n",
        "    fun_ac=tanh\n",
        "  return fun_ac\n",
        "\n",
        "#verificar que las funciones estan bien definidas\n",
        "#_x=np.linspace(-5,5,30)\n",
        "_x=[[3, 4],[-2,0],[-2,0]]\n",
        "\n",
        "print(len(_x))\n",
        "print(len(_x[0]))\n",
        "\n",
        "plt.plot(_x,relu[1](_x))"
      ],
      "execution_count": null,
      "outputs": [
        {
          "output_type": "stream",
          "text": [
            "3\n",
            "2\n"
          ],
          "name": "stdout"
        },
        {
          "output_type": "execute_result",
          "data": {
            "text/plain": [
              "[<matplotlib.lines.Line2D at 0x7f9e01e25e10>,\n",
              " <matplotlib.lines.Line2D at 0x7f9e01e25fd0>]"
            ]
          },
          "metadata": {
            "tags": []
          },
          "execution_count": 27
        },
        {
          "output_type": "display_data",
          "data": {
            "image/png": "[encoded data removed]",
            "text/plain": [
              "<Figure size 432x288 with 1 Axes>"
            ]
          },
          "metadata": {
            "tags": [],
            "needs_background": "light"
          }
        }
      ]
    },
    {
      "cell_type": "code",
      "metadata": {
        "colab": {
          "base_uri": "https://localhost:8080/"
        },
        "id": "LlMy-E7akKxL",
        "outputId": "cf076bb6-5a1d-4209-cf0b-8772c0e891f4"
      },
      "source": [
        "#crear la red neuronal, con solo una capa oculta\n",
        "\n",
        "def crear_red(topologia, fun_ac):\n",
        "  nn=[]#contiene las capas de la red neuronal\n",
        "  for c, capa in enumerate(topologia[:-1]):#crear las conecciones entre las capas\n",
        "    nn.append(red_neuronal(topologia[c],topologia[c+1],fun_ac))\n",
        "    #nn.append(red_neuronal)\n",
        "  return nn\n",
        "topologia=[2,4,8,16,8,4,1]\n",
        "print(topologia)\n",
        "crear_red(topologia, sig)"
      ],
      "execution_count": null,
      "outputs": [
        {
          "output_type": "stream",
          "text": [
            "[2, 4, 8, 16, 8, 4, 1]\n"
          ],
          "name": "stdout"
        },
        {
          "output_type": "execute_result",
          "data": {
            "text/plain": [
              "[<__main__.red_neuronal at 0x7f9e01de9b10>,\n",
              " <__main__.red_neuronal at 0x7f9e01de9650>,\n",
              " <__main__.red_neuronal at 0x7f9e01de9e90>,\n",
              " <__main__.red_neuronal at 0x7f9e01dff7d0>,\n",
              " <__main__.red_neuronal at 0x7f9e01dffc10>,\n",
              " <__main__.red_neuronal at 0x7f9e02a06110>]"
            ]
          },
          "metadata": {
            "tags": []
          },
          "execution_count": 28
        }
      ]
    },
    {
      "cell_type": "code",
      "metadata": {
        "id": "Wk431UNOc200"
      },
      "source": [
        "entrada=4\n",
        "oculta=4\n",
        "salida=1\n",
        "fun=1\n",
        "fun_ac=func_acti(fun)\n",
        "#entrenamiento\n",
        "\n",
        "#se define la funcion de perdida L2\n",
        "per_L2= (lambda Yp, Yr: np.mean((Yp-Yr)**2),\n",
        "         lambda Yp, Yr: 2*(Yp-Yr))\n",
        "#se crea la red \n",
        "topologia=[entrada, oculta, salida]\n",
        "red=crear_red(topologia, fun_ac)\n",
        "#se eligen los datos para entrenar y verificar"
      ],
      "execution_count": null,
      "outputs": []
    },
    {
      "cell_type": "code",
      "metadata": {
        "id": "48MfRaGttnfG"
      },
      "source": [
        "\n",
        "\n",
        "\n",
        "# la variable entreno si es true es para entreanar y si es false es para \n",
        "#ver la validacion en donde no se entrena\n",
        "def entreno(red, d_entrada, d_salida, per_L2, t_aprendizaje, m_aprendizaje, entreno):\n",
        "  \n",
        "  #primero se predice el valor que generan los pesos actuales\n",
        "\n",
        "  #guardar el valor de la suma de productos y la funcion evaluada\n",
        "  sal_capas=[(None,d_entrada)];#se crea con el valor del primer caso\n",
        "  for l, layer in enumerate(red):\n",
        "    #suma de productos\n",
        "    s_p=sal_capas[-1][1]@red[l].w\n",
        "    #se evalua la funcion\n",
        "    a=red[l].act_f[0](s_p)\n",
        "    sal_capas.append((s_p,a))\n",
        "    #calculo de perdida, se calcula cuando se evalua la funcion en la capa oculta\n",
        "    if l==1:\n",
        "      perdida=per_L2[0](a,d_salida)\n",
        "      #print('a',a)\n",
        "      #print('s',d_salida)\n",
        "      #print('p',perdida)\n",
        "\n",
        "    #para la retropropagacion\n",
        "  if entreno:\n",
        "    deltas=[]\n",
        "    for l in reversed(range(0, len(red))):\n",
        "       #tamaño de la salida \n",
        "       zl=sal_capas[l+1][0]\n",
        "       al=sal_capas[l+1][1]\n",
        "\n",
        "       if l==len(red)-1: #caso dela ultima capa\n",
        "         #print(al)\n",
        "         deltas.insert(0,per_L2[1](al,d_salida)*red[l].act_f[1](al))\n",
        "         \n",
        "       else:\n",
        "         #print(deltas)\n",
        "         #print(deltas[0].shape)\n",
        "         #print(_W.T.shape)\n",
        "         deltas.insert(0,deltas[0] @_W.T*red[l].act_f[1](al))\n",
        "       _W=red[l].w\n",
        "      #descenso de gradiente\n",
        "      #para el caso de requerir una tasa variable\n",
        "       if m_aprendizaje==2:\n",
        "        #se cnsiderara una desviacion estandar del 7,5% el valor del promedio\n",
        "        #al cual se le aplica el 25% de aleatoriedad\n",
        "        des= t_aprendizaje*0.075*0.25\n",
        "        ruido_gaus=np.random.normal(t_aprendizaje,des,1)\n",
        "        t_aprendizaje=ruido_gaus[0]\n",
        "       red[l].w=red[l].w-sal_capas[l][1].T@deltas[0]*t_aprendizaje\n",
        "       \n",
        "  return sal_capas[-1][1]\n",
        "\n"
      ],
      "execution_count": null,
      "outputs": []
    },
    {
      "cell_type": "code",
      "metadata": {
        "colab": {
          "base_uri": "https://localhost:8080/",
          "height": 440
        },
        "id": "C_RupEvIcXrl",
        "outputId": "72136bbe-83cb-4ae1-e4b4-c79e11f71760"
      },
      "source": [
        "entrada=5\n",
        "oculta=3\n",
        "salida=1\n",
        "fun=2\n",
        "fun_ac=func_acti(fun)\n",
        "#entrenamiento\n",
        "\n",
        "#se define la funcion de perdida L2\n",
        "per_L2= (lambda Yp, Yr: np.mean((Yp-Yr)**2),\n",
        "         lambda Yp, Yr: 2*(Yp-Yr))\n",
        "#se crea la red \n",
        "topologia=[entrada, oculta, salida]\n",
        "red=crear_red(topologia, fun_ac)\n",
        "\n",
        "\n",
        "\n",
        "\n",
        "\n",
        "N=d_1e.shape[0]\n",
        "#SEPARAR ENTRENAMIENTO DE VERIFICACION\n",
        "v_entrada, v_salida,v_entrada_v, v_salida_v=datosselec(N, d_1e,d_1s)\n",
        "print(v_salida)\n",
        "\n",
        "p_entr=[]\n",
        "p_val=[]\n",
        "for i in range (500):\n",
        "  s_e=entreno(red, v_entrada, v_salida, per_L2, 0.1, 1, True)\n",
        "  perdida1=per_L2[0](s_e*max11[0], v_salida*max11[0])\n",
        "  p_entr.append(perdida1)\n",
        "  s_v=entreno(red, v_entrada_v, v_salida_v, per_L2, 0.1, 1, False)\n",
        "  perdida2=per_L2[0](s_v*max11[0], v_salida_v*max11[0])\n",
        "  p_val.append(perdida2)\n",
        "\n",
        "#imprimir grafico de perdidas\n",
        "plt.plot(p_entr, label=\"Pérdida entrenamiento\")\n",
        "plt.plot(p_val, label=\"Pérdida de validación\")\n",
        "plt.title('Pérdida de entrenamiento y validación')\n",
        "plt.xlabel('Iteración')\n",
        "plt.ylabel('Pérdida')\n",
        "plt.legend()\n",
        "plt.show()\n",
        "print(p_entr[499],p_val[499])"
      ],
      "execution_count": null,
      "outputs": [
        {
          "output_type": "stream",
          "text": [
            "[[0.895]\n",
            " [0.888]\n",
            " [0.893]\n",
            " ...\n",
            " [0.756]\n",
            " [0.753]\n",
            " [0.739]]\n"
          ],
          "name": "stdout"
        },
        {
          "output_type": "display_data",
          "data": {
            "image/png": "[encoded data removed]",
            "text/plain": [
              "<Figure size 432x288 with 1 Axes>"
            ]
          },
          "metadata": {
            "tags": [],
            "needs_background": "light"
          }
        },
        {
          "output_type": "stream",
          "text": [
            "15693.765494360267 15486.50117635255\n"
          ],
          "name": "stdout"
        }
      ]
    },
    {
      "cell_type": "markdown",
      "metadata": {
        "id": "YF2QXn3Gi-mm"
      },
      "source": [
        "## Grafica De perdida"
      ]
    },
    {
      "cell_type": "code",
      "metadata": {
        "id": "_2I7sGJcjEse",
        "colab": {
          "base_uri": "https://localhost:8080/",
          "height": 333
        },
        "outputId": "e2a24ce4-1d7c-4e11-a937-55c3f943d31f"
      },
      "source": [
        "#se grafica la perdida\n",
        "perdida_verificacion,perdida_entrenamiento=entrenemiento(d_1e,d_1s, 5, 1, 7, 1, 0.1, 1)\n",
        "plt.plot(perdida_entrenamiento, label=\"Pérdida entrenamiento\")\n",
        "plt.plot(perdida_verificacion, label=\"Pérdida de validación\")\n",
        "plt.title('Pérdida de entrenamiento y validación')\n",
        "plt.xlabel('Iteración')\n",
        "plt.ylabel('Pérdida')\n",
        "plt.legend()\n",
        "plt.show()\n"
      ],
      "execution_count": null,
      "outputs": [
        {
          "output_type": "stream",
          "text": [
            "[0.02086379667294891, 5.226493840736635, 1.907882906817676, 2.229371470516953, -1.4287660974708083, 17.140778195463465, 17.142151573130487, 12.578865120976298, 8.015578669129752, 3.4522922395563205, -1.1109938207080416]\n"
          ],
          "name": "stdout"
        },
        {
          "output_type": "display_data",
          "data": {
            "image/png": "[encoded data removed]",
            "text/plain": [
              "<Figure size 432x288 with 1 Axes>"
            ]
          },
          "metadata": {
            "tags": [],
            "needs_background": "light"
          }
        }
      ]
    },
    {
      "cell_type": "markdown",
      "metadata": {
        "id": "7W-gcMd_nthO"
      },
      "source": [
        "## Grafica del Peso\n"
      ]
    },
    {
      "cell_type": "code",
      "metadata": {
        "id": "ak7rcjAPnzrY",
        "colab": {
          "base_uri": "https://localhost:8080/",
          "height": 313
        },
        "outputId": "f07117cb-0937-4ac1-ff3a-3b5b6a680fb6"
      },
      "source": [
        "g_peso=entrenemiento(d_2e,d_2s, 4, 1, 3, 1, 0.1, 1)\n",
        "plt.plot(g_peso)\n",
        "plt.title('Evolución de un peso de la capa oculta')\n",
        "plt.xlabel('Iteración')\n",
        "plt.ylabel('Valor del peso')\n",
        "plt.legend()\n",
        "plt.show()"
      ],
      "execution_count": null,
      "outputs": [
        {
          "output_type": "stream",
          "text": [
            "No handles with labels found to put in legend.\n"
          ],
          "name": "stderr"
        },
        {
          "output_type": "display_data",
          "data": {
            "image/png": "[encoded data removed]",
            "text/plain": [
              "<Figure size 432x288 with 1 Axes>"
            ]
          },
          "metadata": {
            "tags": [],
            "needs_background": "light"
          }
        }
      ]
    }
  ]
}